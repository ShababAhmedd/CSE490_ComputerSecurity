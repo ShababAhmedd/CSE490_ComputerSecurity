{
  "nbformat": 4,
  "nbformat_minor": 0,
  "metadata": {
    "colab": {
      "provenance": []
    },
    "kernelspec": {
      "name": "python3",
      "display_name": "Python 3"
    },
    "language_info": {
      "name": "python"
    }
  },
  "cells": [
    {
      "cell_type": "markdown",
      "source": [
        "#Installing Library"
      ],
      "metadata": {
        "id": "779CAw2l92WU"
      }
    },
    {
      "cell_type": "code",
      "source": [
        "!pip install pycryptodome"
      ],
      "metadata": {
        "colab": {
          "base_uri": "https://localhost:8080/"
        },
        "id": "zKRTTkwl903d",
        "outputId": "54248c05-06be-4761-d1aa-7873ca1f85e3"
      },
      "execution_count": 83,
      "outputs": [
        {
          "output_type": "stream",
          "name": "stdout",
          "text": [
            "Requirement already satisfied: pycryptodome in /usr/local/lib/python3.10/dist-packages (3.20.0)\n"
          ]
        }
      ]
    },
    {
      "cell_type": "markdown",
      "source": [
        "#Importing Libraries"
      ],
      "metadata": {
        "id": "e9faaI2r9iK5"
      }
    },
    {
      "cell_type": "code",
      "execution_count": 84,
      "metadata": {
        "id": "M9ySf5ye9b-B"
      },
      "outputs": [],
      "source": [
        "from Crypto.Hash import CMAC\n",
        "from Crypto.Cipher import AES   # CMAC-AES\n",
        "from Crypto.Cipher import DES3  # CMAC-TDEA\n",
        "from Crypto.Cipher import DES   # CMAC-DES"
      ]
    },
    {
      "cell_type": "markdown",
      "source": [
        "#MAC Generation"
      ],
      "metadata": {
        "id": "Fs08aarj-yTM"
      }
    },
    {
      "cell_type": "code",
      "source": [
        "def mac_generation(message, secret_key, cipher_algo):\n",
        "\n",
        "  \"\"\"\n",
        "    The function `mac_generation` generates a Message Authentication Code (MAC) for a given message\n",
        "    using a secret key and a specified cipher algorithm.\n",
        "\n",
        "    :param message: The `message` parameter is the data for which you want to generate a Message\n",
        "    Authentication Code (MAC). It could be a string or bytes-like object that you want to authenticate\n",
        "\n",
        "    :param secret_key: The `secret_key` parameter is a secret key used for generating a Message\n",
        "    Authentication Code (MAC). It should be a string representing the key used for encryption\n",
        "\n",
        "    :param cipher_algo: The `cipher_algo` parameter in the `mac_generation` function is used to specify\n",
        "    the cipher algorithm that will be used for generating the MAC (Message Authentication Code). This\n",
        "    algorithm determines how the MAC will be calculated based on the provided message and secret key.\n",
        "    \"\"\"\n",
        "\n",
        "  if isinstance(secret_key, str):   # checking if secret_key is of string type. If yes then it encodes it to byte like object.\n",
        "        secret_key = secret_key.encode()\n",
        "  if isinstance(message, str):\n",
        "        message = message.encode()\n",
        "\n",
        "  cobj = CMAC.new(secret_key, ciphermod=cipher_algo)\n",
        "  # updating the mac object with the provided message. Incorporating message with the calculations of the mac.\n",
        "  cobj.update(message)\n",
        "  hex_mac = cobj.hexdigest()  # generates hexadecimal representation of the mac.\n",
        "\n",
        "  print(\"Generated MAC:\", hex_mac)"
      ],
      "metadata": {
        "id": "OiwmXzuW-08g"
      },
      "execution_count": 85,
      "outputs": []
    },
    {
      "cell_type": "markdown",
      "source": [
        "\n",
        "\n",
        "---\n",
        "\n"
      ],
      "metadata": {
        "id": "4i4fG_WzASLs"
      }
    },
    {
      "cell_type": "markdown",
      "source": [
        "CMAC-AES"
      ],
      "metadata": {
        "id": "ncbgb4syBWlG"
      }
    },
    {
      "cell_type": "code",
      "source": [
        "mac_generation(\"Hi... This is AES!\", \"Sixteen byte key\", AES)"
      ],
      "metadata": {
        "colab": {
          "base_uri": "https://localhost:8080/"
        },
        "id": "w1MoUsNqAS32",
        "outputId": "c12bc3a7-eda1-4f82-d8e6-ea5e80d622b0"
      },
      "execution_count": 86,
      "outputs": [
        {
          "output_type": "stream",
          "name": "stdout",
          "text": [
            "Generated MAC: 1aa2aa9e936591cd9fe6d02d39f785f3\n"
          ]
        }
      ]
    },
    {
      "cell_type": "markdown",
      "source": [
        "CMAC-TDEA"
      ],
      "metadata": {
        "id": "2cG2kkKXDznI"
      }
    },
    {
      "cell_type": "code",
      "source": [
        "mac_generation(\"Hi... This is TDEA!\", \"Sixteen byte key\", DES3)"
      ],
      "metadata": {
        "colab": {
          "base_uri": "https://localhost:8080/"
        },
        "id": "luB2QKS9D0U-",
        "outputId": "fafd2b52-a8f3-4510-f6c8-6fbf70c43a5f"
      },
      "execution_count": 87,
      "outputs": [
        {
          "output_type": "stream",
          "name": "stdout",
          "text": [
            "Generated MAC: eb2cfa34b68609d1\n"
          ]
        }
      ]
    },
    {
      "cell_type": "markdown",
      "source": [
        "CMAC-DES"
      ],
      "metadata": {
        "id": "L0s_zuh2D6XY"
      }
    },
    {
      "cell_type": "code",
      "source": [
        "mac_generation(\"Hi... This is DES!\", \"8_byte_k\", DES)"
      ],
      "metadata": {
        "colab": {
          "base_uri": "https://localhost:8080/"
        },
        "id": "VMcza9neD8II",
        "outputId": "9b6b92b4-4ef3-475f-f88a-3c37de52064d"
      },
      "execution_count": 88,
      "outputs": [
        {
          "output_type": "stream",
          "name": "stdout",
          "text": [
            "Generated MAC: 8cb24168ecc058ee\n"
          ]
        }
      ]
    }
  ]
}