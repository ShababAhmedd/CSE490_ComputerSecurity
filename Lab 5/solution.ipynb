{
  "nbformat": 4,
  "nbformat_minor": 0,
  "metadata": {
    "colab": {
      "provenance": [],
      "collapsed_sections": [
        "1wOocgMlVig-"
      ]
    },
    "kernelspec": {
      "name": "python3",
      "display_name": "Python 3"
    },
    "language_info": {
      "name": "python"
    }
  },
  "cells": [
    {
      "cell_type": "markdown",
      "source": [
        "# Caesar Cipher"
      ],
      "metadata": {
        "id": "1wOocgMlVig-"
      }
    },
    {
      "cell_type": "code",
      "source": [
        "def decrypt_shift_cipher(ciphertext, key):\n",
        "\n",
        "    decrypt_txt = \" \"\n",
        "    for i in ciphertext:\n",
        "\n",
        "      if i == \" \":\n",
        "        decrypt_txt += \" \"\n",
        "\n",
        "      else:\n",
        "        x = ord(i)\n",
        "        d = (((x-key)-65)%26)+65\n",
        "        decrypt_txt += chr(d)\n",
        "\n",
        "    return decrypt_txt"
      ],
      "metadata": {
        "id": "DeTQVJUm2hm0"
      },
      "execution_count": 123,
      "outputs": []
    },
    {
      "cell_type": "code",
      "source": [
        "#Decrypt the following text and find out the value of the key using the decrypt_shift_cipher() method.\n",
        "ciphertext = \"KYV HLZTB SIFNE WFO\"\n",
        "for i in range(26):\n",
        "  print(decrypt_shift_cipher(ciphertext, i), \"-->\", \"Key:\",i)   # Check key: 17"
      ],
      "metadata": {
        "id": "dBQ7hHE_20uH",
        "colab": {
          "base_uri": "https://localhost:8080/"
        },
        "outputId": "27a50743-2659-4e91-d4c0-cf4f053142db"
      },
      "execution_count": 124,
      "outputs": [
        {
          "output_type": "stream",
          "name": "stdout",
          "text": [
            " KYV HLZTB SIFNE WFO --> Key: 0\n",
            " JXU GKYSA RHEMD VEN --> Key: 1\n",
            " IWT FJXRZ QGDLC UDM --> Key: 2\n",
            " HVS EIWQY PFCKB TCL --> Key: 3\n",
            " GUR DHVPX OEBJA SBK --> Key: 4\n",
            " FTQ CGUOW NDAIZ RAJ --> Key: 5\n",
            " ESP BFTNV MCZHY QZI --> Key: 6\n",
            " DRO AESMU LBYGX PYH --> Key: 7\n",
            " CQN ZDRLT KAXFW OXG --> Key: 8\n",
            " BPM YCQKS JZWEV NWF --> Key: 9\n",
            " AOL XBPJR IYVDU MVE --> Key: 10\n",
            " ZNK WAOIQ HXUCT LUD --> Key: 11\n",
            " YMJ VZNHP GWTBS KTC --> Key: 12\n",
            " XLI UYMGO FVSAR JSB --> Key: 13\n",
            " WKH TXLFN EURZQ IRA --> Key: 14\n",
            " VJG SWKEM DTQYP HQZ --> Key: 15\n",
            " UIF RVJDL CSPXO GPY --> Key: 16\n",
            " THE QUICK BROWN FOX --> Key: 17\n",
            " SGD PTHBJ AQNVM ENW --> Key: 18\n",
            " RFC OSGAI ZPMUL DMV --> Key: 19\n",
            " QEB NRFZH YOLTK CLU --> Key: 20\n",
            " PDA MQEYG XNKSJ BKT --> Key: 21\n",
            " OCZ LPDXF WMJRI AJS --> Key: 22\n",
            " NBY KOCWE VLIQH ZIR --> Key: 23\n",
            " MAX JNBVD UKHPG YHQ --> Key: 24\n",
            " LZW IMAUC TJGOF XGP --> Key: 25\n"
          ]
        }
      ]
    },
    {
      "cell_type": "markdown",
      "source": [
        "# Substitution Cipher"
      ],
      "metadata": {
        "id": "RqFWriJBVoDO"
      }
    },
    {
      "cell_type": "code",
      "source": [
        "import pandas as pd\n",
        "def frequency_table(text):\n",
        "  text = text.lower()\n",
        "  table = []\n",
        "  count = 0\n",
        "  for i in text:\n",
        "    if i in 'qwertyuiopasdfghjklzxcvbnm':\n",
        "      count += 1\n",
        "  for i in range(97,123):\n",
        "      table.append(text.count(chr(i))/count)\n",
        "  index = [i[0] for i in sorted(enumerate(table), key=lambda x:x[1])][::-1]\n",
        "  for i in index:\n",
        "    print(chr(97+i)+\":\"+str(table[i]))"
      ],
      "metadata": {
        "id": "ZwImnQeYVtGE"
      },
      "execution_count": 125,
      "outputs": []
    },
    {
      "cell_type": "code",
      "source": [
        "ciphertext = \"awbix ildxz kolf a dkzeplld afu zbjjbfm lf bj bz a rwkx iajxpobwwap zdlgbfm a ellgae.\\n jex iajxpobwwap ykxzjblfz awbix afu zex audbjz jl exp ikppxfj buxfjbjt ipbzbz, ildolkfuxu rt exp bfarbwbjt jl pxdxdrxp a olxd.\\n rxnlpx ipahwbfm ahat, jex iajxpobwwap jxwwz awbix jeaj lfx zbux ln jex dkzeplld hbww dagx exp jawwxp afu jex ljexp zbux hbww dagx exp zelpjxp.\\n zex rpxagz lnn jhl obxixz npld jex dkzeplld.\\n lfx zbux dagxz exp zepbfg zdawwxp jeaf xcxp, hebwx afljexp iakzxz exp fxig jl mplh ebme bfjl jex jpxxz, hexpx a obmxlf dbzjagxz exp nlp a zxpoxfj.\\n hbje zldx xnnlpj, awbix rpbfmz expzxwn raig jl exp kzkaw exbmej.\\n zex zjkdrwxz kolf a zdaww xzjajx afu kzxz jex dkzeplld jl pxaie a dlpx aooplopbajx exbmej.\"\n",
        "print(ciphertext, '\\n')\n",
        "frequency_table(ciphertext)"
      ],
      "metadata": {
        "id": "2R-LMVH-brn3",
        "colab": {
          "base_uri": "https://localhost:8080/"
        },
        "outputId": "be05097d-379e-4f41-b0ef-d68760b6bd08"
      },
      "execution_count": 126,
      "outputs": [
        {
          "output_type": "stream",
          "name": "stdout",
          "text": [
            "awbix ildxz kolf a dkzeplld afu zbjjbfm lf bj bz a rwkx iajxpobwwap zdlgbfm a ellgae.\n",
            " jex iajxpobwwap ykxzjblfz awbix afu zex audbjz jl exp ikppxfj buxfjbjt ipbzbz, ildolkfuxu rt exp bfarbwbjt jl pxdxdrxp a olxd.\n",
            " rxnlpx ipahwbfm ahat, jex iajxpobwwap jxwwz awbix jeaj lfx zbux ln jex dkzeplld hbww dagx exp jawwxp afu jex ljexp zbux hbww dagx exp zelpjxp.\n",
            " zex rpxagz lnn jhl obxixz npld jex dkzeplld.\n",
            " lfx zbux dagxz exp zepbfg zdawwxp jeaf xcxp, hebwx afljexp iakzxz exp fxig jl mplh ebme bfjl jex jpxxz, hexpx a obmxlf dbzjagxz exp nlp a zxpoxfj.\n",
            " hbje zldx xnnlpj, awbix rpbfmz expzxwn raig jl exp kzkaw exbmej.\n",
            " zex zjkdrwxz kolf a zdaww xzjajx afu kzxz jex dkzeplld jl pxaie a dlpx aooplopbajx exbmej. \n",
            "\n",
            "x:0.140597539543058\n",
            "p:0.08260105448154657\n",
            "a:0.08084358523725835\n",
            "j:0.07908611599297012\n",
            "z:0.07381370826010544\n",
            "l:0.07381370826010544\n",
            "e:0.07205623901581722\n",
            "b:0.06854130052724078\n",
            "w:0.050966608084358524\n",
            "f:0.043936731107205626\n",
            "d:0.043936731107205626\n",
            "i:0.029876977152899824\n",
            "k:0.026362038664323375\n",
            "o:0.022847100175746926\n",
            "u:0.019332161687170474\n",
            "g:0.01757469244288225\n",
            "r:0.015817223198594025\n",
            "n:0.015817223198594025\n",
            "m:0.015817223198594025\n",
            "h:0.015817223198594025\n",
            "t:0.007029876977152899\n",
            "y:0.0017574692442882249\n",
            "c:0.0017574692442882249\n",
            "v:0.0\n",
            "s:0.0\n",
            "q:0.0\n"
          ]
        }
      ]
    },
    {
      "cell_type": "code",
      "source": [
        "ciphertext = \"awbix ildxz kolf a dkzeplld afu zbjjbfm lf bj bz a rwkx iajxpobwwap zdlgbfm a ellgae.\\n jex iajxpobwwap ykxzjblfz awbix afu zex audbjz jl exp ikppxfj buxfjbjt ipbzbz, ildolkfuxu rt exp bfarbwbjt jl pxdxdrxp a olxd.\\n rxnlpx ipahwbfm ahat, jex iajxpobwwap jxwwz awbix jeaj lfx zbux ln jex dkzeplld hbww dagx exp jawwxp afu jex ljexp zbux hbww dagx exp zelpjxp.\\n zex rpxagz lnn jhl obxixz npld jex dkzeplld.\\n lfx zbux dagxz exp zepbfg zdawwxp jeaf xcxp, hebwx afljexp iakzxz exp fxig jl mplh ebme bfjl jex jpxxz, hexpx a obmxlf dbzjagxz exp nlp a zxpoxfj.\\n hbje zldx xnnlpj, awbix rpbfmz expzxwn raig jl exp kzkaw exbmej.\\n zex zjkdrwxz kolf a zdaww xzjajx afu kzxz jex dkzeplld jl pxaie a dlpx aooplopbajx exbmej.\"\n",
        "ciphertext = ciphertext.replace('x','E')\n",
        "ciphertext = ciphertext.replace('a','A')\n",
        "ciphertext = ciphertext.replace('j','T')\n",
        "ciphertext = ciphertext.replace('e','H')\n",
        "ciphertext = ciphertext.replace('l','O')\n",
        "ciphertext = ciphertext.replace('n','F')\n",
        "ciphertext = ciphertext.replace('p','R')\n",
        "ciphertext = ciphertext.replace('c','V')\n",
        "ciphertext = ciphertext.replace('f','N')\n",
        "ciphertext = ciphertext.replace('b','I')\n",
        "ciphertext = ciphertext.replace('z','S')\n",
        "ciphertext = ciphertext.replace('m','G')\n",
        "ciphertext = ciphertext.replace('o','P')\n",
        "ciphertext = ciphertext.replace('k','U')\n",
        "ciphertext = ciphertext.replace('y','Q')\n",
        "ciphertext = ciphertext.replace('r','B')\n",
        "ciphertext = ciphertext.replace('w','L')\n",
        "ciphertext = ciphertext.replace('i','C')\n",
        "ciphertext = ciphertext.replace('d','M')\n",
        "ciphertext = ciphertext.replace('g','K')\n",
        "ciphertext = ciphertext.replace('u','D')\n",
        "ciphertext = ciphertext.replace('t','Y')\n",
        "ciphertext = ciphertext.replace('h','W')\n",
        "print(ciphertext)"
      ],
      "metadata": {
        "colab": {
          "base_uri": "https://localhost:8080/"
        },
        "id": "M5DgPWmvF8MR",
        "outputId": "6d5660f5-2c23-4959-db2c-f97cdb122103"
      },
      "execution_count": 127,
      "outputs": [
        {
          "output_type": "stream",
          "name": "stdout",
          "text": [
            "ALICE COMES UPON A MUSHROOM AND SITTING ON IT IS A BLUE CATERPILLAR SMOKING A HOOKAH.\n",
            " THE CATERPILLAR QUESTIONS ALICE AND SHE ADMITS TO HER CURRENT IDENTITY CRISIS, COMPOUNDED BY HER INABILITY TO REMEMBER A POEM.\n",
            " BEFORE CRAWLING AWAY, THE CATERPILLAR TELLS ALICE THAT ONE SIDE OF THE MUSHROOM WILL MAKE HER TALLER AND THE OTHER SIDE WILL MAKE HER SHORTER.\n",
            " SHE BREAKS OFF TWO PIECES FROM THE MUSHROOM.\n",
            " ONE SIDE MAKES HER SHRINK SMALLER THAN EVER, WHILE ANOTHER CAUSES HER NECK TO GROW HIGH INTO THE TREES, WHERE A PIGEON MISTAKES HER FOR A SERPENT.\n",
            " WITH SOME EFFORT, ALICE BRINGS HERSELF BACK TO HER USUAL HEIGHT.\n",
            " SHE STUMBLES UPON A SMALL ESTATE AND USES THE MUSHROOM TO REACH A MORE APPROPRIATE HEIGHT.\n"
          ]
        }
      ]
    },
    {
      "cell_type": "markdown",
      "source": [
        "\n",
        "\n",
        "---\n",
        "\n"
      ],
      "metadata": {
        "id": "Drqu-EVV2exp"
      }
    },
    {
      "cell_type": "markdown",
      "source": [
        "# **Group-A**"
      ],
      "metadata": {
        "id": "8oAbeLddx2Fy"
      }
    },
    {
      "cell_type": "markdown",
      "source": [
        "Cipher-2"
      ],
      "metadata": {
        "id": "Fy-HU1iwx5PP"
      }
    },
    {
      "cell_type": "code",
      "source": [
        "ga_c2 = \"EGFLORTK B KGGD. MIT SGEBMOGF GY MIT KGGD OL FGM OF JWTLMOGF BM MIT DGDTFM. \\n OM OL DTKTSA LWYYOEOTFM MG LBA MIBM OF MIBM KGGD, DGKT MIBF BFACITKT, MIT LTEGFR \\n YGWFRBMOGF TVOLMTR. OM CBL B KGGD CIOEI, MIKGWUI MIT ETFMWKOTL, IBR ZTTF MIT BZGRT GY \\n HWKT LEOTFET ATM OM IBR FGFT GY MIT UBRUTML COMI CIOEI, MIKGWUI DOSSTFFOB GY BLLGEOBMOGF, \\n LEOTFET IBL EGDT MG ZT EGFLORTKTR TJWOXBSTFM. OM CBL B LEOTFET, OFLMTBR, CIOEI RTBSM COMI \\n DBMITDBMOEBS EGFETHML GFSA, OF B DBFFTK LODOSBK MG MIT LHTEWSBMOGF GY BFEOTFM, BFEOTFM KBETL \\n OF MIT HKODOMOXT, HKTIOLMGKOE RBAL ZTYGKT MTEIFGSGUA IBR EGDT MG ZT; ZTYGKT DBF \\n IBR LHKTBR ZTAGFR B LOFUST, FGC-WFQFGCF CGKSR. YGK GFT MIOFU, MITKT CBL OF MIBM KGGD - HKGMTEMTR \\n ZA B DTFMBS LEOTFET BL ATM WFBLLBOSBZST ZA MIT EGDZOFTR HIALOEBS DOUIM GY MIT KTLM GY MIT \\n UBSBVA - MIT HKODT KBROBFM, CIOEI ITSR OF OML XOMBSL MIT LTSRGF HSBF - EGDHSTMT. YGK BFGMITK, \\n MITKT CBL B DBF, MGG, OF MIBM KGGD - MIT YOKLM LHTBQTK. IT CBL MIT MCTSYMI OF MIT \\n SOFT GY EIOTY UWBKROBFL GY MIT HSBF, BFR IOL MOMST ZGKT FG RTTHTK LOUFOYOEBFET MIBF MIT \\n YBEM MIBM BM MIT UBMITKOFUL GY MIT STBRTKL GY MIT LTEGFR YGWFRBMOGF, IT LHGQT YOKLM. \\n IOL HKTRTETLLGK IBR ZTBMTF MIT DWST, ZWM MIT CKTEQBUT GY MIBM UOUBFMOE LMKWUUST LMOSS SOMMTKTR \\n MIT HBMI GY MIT HSBF- YGK MCTFMA-YOXT ATBKL, IT, BFR IOL BRDOFOLMKBMOGF, IBR ZTTF MKAOFU MG YGKET B \\n UBSBVA GY LMWZZGKF BFR LMWHOR IWDBF ZTOFUL ZBEQ MG MIT HBMI- OM CBL B MTKKOZST MBLQ. MIT YOKLM \\n LHTBQTK SGGQTR WH BM MIT GHTFOFU RGGK. TXTF CIOST, OF MIT \\n SGFTSOFTLL GY MIT KGGD, IT EGFLORTKTR IOL JWBKMTK ETFMWKA GY TYYGKM, CIOEI FGC LG \\n LSGCSA BFR OFTXOMBZSA BHHKGBEITR OML ESODBV; TXTF CIOST IT IBR ZTTF LG TFUBUTR, \\n IOL DOFR IBR ZTTF EGFLORTKOFU MIT FTCEGDTK COMI B UTFMST TVHTEMBMOGF. \\n B AGWMI, B LMWRTFM, GFT GY MIGLT CIG DOUIM MBQT GXTK, TXTFMWBSSA.\"\n",
        "print(ga_c2)"
      ],
      "metadata": {
        "colab": {
          "base_uri": "https://localhost:8080/"
        },
        "id": "KDrcKg5Vx7CK",
        "outputId": "f993b02e-07be-4a64-d388-116c99055967"
      },
      "execution_count": 128,
      "outputs": [
        {
          "output_type": "stream",
          "name": "stdout",
          "text": [
            "EGFLORTK B KGGD. MIT SGEBMOGF GY MIT KGGD OL FGM OF JWTLMOGF BM MIT DGDTFM. \n",
            " OM OL DTKTSA LWYYOEOTFM MG LBA MIBM OF MIBM KGGD, DGKT MIBF BFACITKT, MIT LTEGFR \n",
            " YGWFRBMOGF TVOLMTR. OM CBL B KGGD CIOEI, MIKGWUI MIT ETFMWKOTL, IBR ZTTF MIT BZGRT GY \n",
            " HWKT LEOTFET ATM OM IBR FGFT GY MIT UBRUTML COMI CIOEI, MIKGWUI DOSSTFFOB GY BLLGEOBMOGF, \n",
            " LEOTFET IBL EGDT MG ZT EGFLORTKTR TJWOXBSTFM. OM CBL B LEOTFET, OFLMTBR, CIOEI RTBSM COMI \n",
            " DBMITDBMOEBS EGFETHML GFSA, OF B DBFFTK LODOSBK MG MIT LHTEWSBMOGF GY BFEOTFM, BFEOTFM KBETL \n",
            " OF MIT HKODOMOXT, HKTIOLMGKOE RBAL ZTYGKT MTEIFGSGUA IBR EGDT MG ZT; ZTYGKT DBF \n",
            " IBR LHKTBR ZTAGFR B LOFUST, FGC-WFQFGCF CGKSR. YGK GFT MIOFU, MITKT CBL OF MIBM KGGD - HKGMTEMTR \n",
            " ZA B DTFMBS LEOTFET BL ATM WFBLLBOSBZST ZA MIT EGDZOFTR HIALOEBS DOUIM GY MIT KTLM GY MIT \n",
            " UBSBVA - MIT HKODT KBROBFM, CIOEI ITSR OF OML XOMBSL MIT LTSRGF HSBF - EGDHSTMT. YGK BFGMITK, \n",
            " MITKT CBL B DBF, MGG, OF MIBM KGGD - MIT YOKLM LHTBQTK. IT CBL MIT MCTSYMI OF MIT \n",
            " SOFT GY EIOTY UWBKROBFL GY MIT HSBF, BFR IOL MOMST ZGKT FG RTTHTK LOUFOYOEBFET MIBF MIT \n",
            " YBEM MIBM BM MIT UBMITKOFUL GY MIT STBRTKL GY MIT LTEGFR YGWFRBMOGF, IT LHGQT YOKLM. \n",
            " IOL HKTRTETLLGK IBR ZTBMTF MIT DWST, ZWM MIT CKTEQBUT GY MIBM UOUBFMOE LMKWUUST LMOSS SOMMTKTR \n",
            " MIT HBMI GY MIT HSBF- YGK MCTFMA-YOXT ATBKL, IT, BFR IOL BRDOFOLMKBMOGF, IBR ZTTF MKAOFU MG YGKET B \n",
            " UBSBVA GY LMWZZGKF BFR LMWHOR IWDBF ZTOFUL ZBEQ MG MIT HBMI- OM CBL B MTKKOZST MBLQ. MIT YOKLM \n",
            " LHTBQTK SGGQTR WH BM MIT GHTFOFU RGGK. TXTF CIOST, OF MIT \n",
            " SGFTSOFTLL GY MIT KGGD, IT EGFLORTKTR IOL JWBKMTK ETFMWKA GY TYYGKM, CIOEI FGC LG \n",
            " LSGCSA BFR OFTXOMBZSA BHHKGBEITR OML ESODBV; TXTF CIOST IT IBR ZTTF LG TFUBUTR, \n",
            " IOL DOFR IBR ZTTF EGFLORTKOFU MIT FTCEGDTK COMI B UTFMST TVHTEMBMOGF. \n",
            " B AGWMI, B LMWRTFM, GFT GY MIGLT CIG DOUIM MBQT GXTK, TXTFMWBSSA.\n"
          ]
        }
      ]
    },
    {
      "cell_type": "code",
      "source": [
        "frequency_table(ga_c2)"
      ],
      "metadata": {
        "colab": {
          "base_uri": "https://localhost:8080/"
        },
        "id": "zEeFzyyJzFiy",
        "outputId": "5277dd6e-66dc-4d81-8179-b7439f5d4049"
      },
      "execution_count": 129,
      "outputs": [
        {
          "output_type": "stream",
          "name": "stdout",
          "text": [
            "t:0.13243626062322947\n",
            "m:0.10339943342776203\n",
            "b:0.08002832861189801\n",
            "g:0.07790368271954674\n",
            "f:0.07719546742209632\n",
            "o:0.07577903682719547\n",
            "i:0.0708215297450425\n",
            "l:0.05453257790368272\n",
            "k:0.04815864022662889\n",
            "e:0.036827195467422094\n",
            "r:0.034702549575070823\n",
            "s:0.0339943342776204\n",
            "y:0.026203966005665724\n",
            "d:0.023371104815864022\n",
            "u:0.019121813031161474\n",
            "c:0.019121813031161474\n",
            "h:0.018413597733711047\n",
            "w:0.017705382436260624\n",
            "z:0.016288951841359773\n",
            "a:0.015580736543909348\n",
            "x:0.006373937677053824\n",
            "q:0.006373937677053824\n",
            "v:0.0035410764872521247\n",
            "j:0.002124645892351275\n",
            "p:0.0\n",
            "n:0.0\n"
          ]
        }
      ]
    },
    {
      "cell_type": "code",
      "source": [
        "ga_c2 = ga_c2.replace('T','e')\n",
        "ga_c2 = ga_c2.replace('M','t')\n",
        "ga_c2 = ga_c2.replace('I','h')\n",
        "ga_c2 = ga_c2.replace('B','a')\n",
        "ga_c2 = ga_c2.replace('G','o')\n",
        "ga_c2 = ga_c2.replace('F','n')\n",
        "ga_c2 = ga_c2.replace('A','y')\n",
        "ga_c2 = ga_c2.replace('O','i')\n",
        "ga_c2 = ga_c2.replace('D','m')\n",
        "ga_c2 = ga_c2.replace('Y','f')\n",
        "ga_c2 = ga_c2.replace('R','d')\n",
        "ga_c2 = ga_c2.replace('H','p')\n",
        "ga_c2 = ga_c2.replace('X','v')\n",
        "ga_c2 = ga_c2.replace('K','r')\n",
        "ga_c2 = ga_c2.replace('L','s')\n",
        "ga_c2 = ga_c2.replace('W','u')\n",
        "ga_c2 = ga_c2.replace('Z','b')\n",
        "ga_c2 = ga_c2.replace('E','c')\n",
        "ga_c2 = ga_c2.replace('S','l')\n",
        "ga_c2 = ga_c2.replace('U','g')\n",
        "ga_c2 = ga_c2.replace('V','x')\n",
        "ga_c2 = ga_c2.replace('N','z')\n",
        "ga_c2 = ga_c2.replace('C','w')\n",
        "ga_c2 = ga_c2.replace('Q','k')\n",
        "ga_c2 = ga_c2.replace('J','q')\n",
        "\n",
        "print(ga_c2)"
      ],
      "metadata": {
        "colab": {
          "base_uri": "https://localhost:8080/"
        },
        "id": "jJ9HrMO9zMKu",
        "outputId": "56862f56-55c6-4c58-d56a-a459b2a99f2c"
      },
      "execution_count": 130,
      "outputs": [
        {
          "output_type": "stream",
          "name": "stdout",
          "text": [
            "consider a room. the location of the room is not in question at the moment. \n",
            " it is merely sufficient to say that in that room, more than anywhere, the second \n",
            " foundation existed. it was a room which, through the centuries, had been the abode of \n",
            " pure science yet it had none of the gadgets with which, through millennia of association, \n",
            " science has come to be considered equivalent. it was a science, instead, which dealt with \n",
            " mathematical concepts only, in a manner similar to the speculation of ancient, ancient races \n",
            " in the primitive, prehistoric days before technology had come to be; before man \n",
            " had spread beyond a single, now-unknown world. for one thing, there was in that room - protected \n",
            " by a mental science as yet unassailable by the combined physical might of the rest of the \n",
            " galaxy - the prime radiant, which held in its vitals the seldon plan - complete. for another, \n",
            " there was a man, too, in that room - the first speaker. he was the twelfth in the \n",
            " line of chief guardians of the plan, and his title bore no deeper significance than the \n",
            " fact that at the gatherings of the leaders of the second foundation, he spoke first. \n",
            " his predecessor had beaten the mule, but the wreckage of that gigantic struggle still littered \n",
            " the path of the plan- for twenty-five years, he, and his administration, had been trying to force a \n",
            " galaxy of stubborn and stupid human beings back to the path- it was a terrible task. the first \n",
            " speaker looked up at the opening door. even while, in the \n",
            " loneliness of the room, he considered his quarter century of effort, which now so \n",
            " slowly and inevitably approached its climax; even while he had been so engaged, \n",
            " his mind had been considering the newcomer with a gentle expectation. \n",
            " a youth, a student, one of those who might take over, eventually.\n"
          ]
        }
      ]
    },
    {
      "cell_type": "markdown",
      "source": [
        "# **Group-B**"
      ],
      "metadata": {
        "id": "XwXxp7xHin12"
      }
    },
    {
      "cell_type": "markdown",
      "source": [
        "Cipher-1"
      ],
      "metadata": {
        "id": "WZ-pXCSflHAV"
      }
    },
    {
      "cell_type": "code",
      "source": [
        "gb_c1 =\"KTFRTNXGWL COMI KBDB ZA BKMIWK E. ESBKQT KTEGWFML MIT DOLLOGF GY \\n MIT LHBETLIOH TFRTBXGWK BFR OML LMBYY BL OM EGDHSTMTL BF TVHSGKBMGKA \\n DOLLOGF GF BF BSOTF LHBET XTLLTS MKBXTSOFU MIGWUI MIT LGSBK LALMTD. MIT FGXTS \\n WFRTKSOFTL MIT ROYYOEWSMOTL TFEGWFMTKTR ZA MIT TVHSGKTKL BL MITA MKA \\n  MG BRBHM MG BF TFXOKGFDTFM MIBM GZTAL MIT KWSTL GY HIALOEL OF B HSBET MIBM\"\n",
        "print(gb_c1)"
      ],
      "metadata": {
        "colab": {
          "base_uri": "https://localhost:8080/"
        },
        "id": "HIKA_3P2lKkE",
        "outputId": "beaf418b-eb64-4ef7-e057-d7217217c978"
      },
      "execution_count": 131,
      "outputs": [
        {
          "output_type": "stream",
          "name": "stdout",
          "text": [
            "KTFRTNXGWL COMI KBDB ZA BKMIWK E. ESBKQT KTEGWFML MIT DOLLOGF GY \n",
            " MIT LHBETLIOH TFRTBXGWK BFR OML LMBYY BL OM EGDHSTMTL BF TVHSGKBMGKA \n",
            " DOLLOGF GF BF BSOTF LHBET XTLLTS MKBXTSOFU MIGWUI MIT LGSBK LALMTD. MIT FGXTS \n",
            " WFRTKSOFTL MIT ROYYOEWSMOTL TFEGWFMTKTR ZA MIT TVHSGKTKL BL MITA MKA \n",
            "  MG BRBHM MG BF TFXOKGFDTFM MIBM GZTAL MIT KWSTL GY HIALOEL OF B HSBET MIBM\n"
          ]
        }
      ]
    },
    {
      "cell_type": "code",
      "source": [
        "frequency_table(gb_c1)"
      ],
      "metadata": {
        "colab": {
          "base_uri": "https://localhost:8080/"
        },
        "id": "RDVOX6vTmIfL",
        "outputId": "5f49d115-1367-4017-e57a-d6bcb124133e"
      },
      "execution_count": 132,
      "outputs": [
        {
          "output_type": "stream",
          "name": "stdout",
          "text": [
            "t:0.1292517006802721\n",
            "m:0.10204081632653061\n",
            "l:0.08843537414965986\n",
            "b:0.08163265306122448\n",
            "f:0.07142857142857142\n",
            "g:0.06802721088435375\n",
            "k:0.061224489795918366\n",
            "o:0.05782312925170068\n",
            "i:0.05442176870748299\n",
            "s:0.04421768707482993\n",
            "e:0.034013605442176874\n",
            "w:0.030612244897959183\n",
            "h:0.030612244897959183\n",
            "a:0.027210884353741496\n",
            "r:0.023809523809523808\n",
            "y:0.02040816326530612\n",
            "x:0.02040816326530612\n",
            "d:0.02040816326530612\n",
            "z:0.01020408163265306\n",
            "v:0.006802721088435374\n",
            "u:0.006802721088435374\n",
            "q:0.003401360544217687\n",
            "n:0.003401360544217687\n",
            "c:0.003401360544217687\n",
            "p:0.0\n",
            "j:0.0\n"
          ]
        }
      ]
    },
    {
      "cell_type": "code",
      "source": [
        "gb_c1 = gb_c1.replace('T','e')\n",
        "gb_c1 = gb_c1.replace('M','t')\n",
        "gb_c1 = gb_c1.replace('I','h')\n",
        "gb_c1 = gb_c1.replace('B','a')\n",
        "gb_c1 = gb_c1.replace('G','o')\n",
        "gb_c1 = gb_c1.replace('F','n')\n",
        "gb_c1 = gb_c1.replace('A','y')\n",
        "gb_c1 = gb_c1.replace('O','i')\n",
        "gb_c1 = gb_c1.replace('D','m')\n",
        "gb_c1 = gb_c1.replace('Y','f')\n",
        "gb_c1 = gb_c1.replace('R','d')\n",
        "gb_c1 = gb_c1.replace('H','p')\n",
        "gb_c1 = gb_c1.replace('X','v')\n",
        "gb_c1 = gb_c1.replace('K','r')\n",
        "gb_c1 = gb_c1.replace('L','s')\n",
        "gb_c1 = gb_c1.replace('W','u')\n",
        "gb_c1 = gb_c1.replace('Z','b')\n",
        "gb_c1 = gb_c1.replace('E','c')\n",
        "gb_c1 = gb_c1.replace('S','l')\n",
        "gb_c1 = gb_c1.replace('U','g')\n",
        "gb_c1 = gb_c1.replace('V','x')\n",
        "gb_c1 = gb_c1.replace('N','z')\n",
        "gb_c1 = gb_c1.replace('C','w')\n",
        "gb_c1 = gb_c1.replace('Q','k')\n",
        "\n",
        "print(gb_c1)"
      ],
      "metadata": {
        "colab": {
          "base_uri": "https://localhost:8080/"
        },
        "id": "y8mpi-9-l6ng",
        "outputId": "246650a2-9595-41c2-fb9c-ecfa8a7cb0eb"
      },
      "execution_count": 133,
      "outputs": [
        {
          "output_type": "stream",
          "name": "stdout",
          "text": [
            "rendezvous with rama by arthur c. clarke recounts the mission of \n",
            " the spaceship endeavour and its staff as it completes an exploratory \n",
            " mission on an alien space vessel traveling though the solar system. the novel \n",
            " underlines the difficulties encountered by the explorers as they try \n",
            "  to adapt to an environment that obeys the rules of physics in a place that\n"
          ]
        }
      ]
    },
    {
      "cell_type": "markdown",
      "source": [
        "Cipher-2"
      ],
      "metadata": {
        "id": "cLjhy74c0voE"
      }
    },
    {
      "cell_type": "code",
      "source": [
        "gb_c2 = \"RWKOFU MIT SBLM JWBKMTK GY MIT MCTFMA LTEGFR ETFMWKA, DBFQOFR LHGMMTR BF WFQFGCF \\n BFR WFTVHTEMTR LHBET GZPTEM MKBXTSOFU BEKGLL MIT HBMI GY MIT HSBFTML MGCBKR MIT LWF. MIT \\n GZPTEM OL FBDTR KBDB BFR LEOTFMOLML LTFR B HKGZT FTBK MIT GZPTEM. MIT HKGZT ORTFMOYOTL \\n KBDB BL BF BKMOYOEOBS, DTMBSSOE GZPTEM MIT LONT GY B LDBSS DTMTGKOMT, HTKYTEMSA EASOFRKOEBS \\n BFR BHHBKTFMSA OFBEMOXT. B MTBD GY TVHSGKTKL OL MITF LTFM GF B DOLLOGF MG SBFR GF MIT \\n GZPTEM BFR TVHSGKT OML EGFMTFM. MIT MTBD BZGBKR LHBETLIOH TFRTBXGWK ROLEGXTKL B CGKSR \\n CIGLT HIALOEBS EIBKBEMTKOLMOEL BKT XTKA ROYYTKTFM YKGD MIBM CIOEI HKTXBOSL TSLTCITKT \\n OF MIT WFOXTKLT BFR CITKT MIT SBCL GY HIALOEL BHHSA MG B LTSY-TFESGLTR, LTSY-LWYYOEOTFM \\n EASOFRKOEBS CGKSR. BM YOKLM, MIT CGKSR GY KBDB LTTDL MG IBXT ZTTF TOMITK BLSTTH \\n GK RTBR YGK B DOSSOGF ATBKL BL OM RKOYMTR MIKGWUI LHBET. MITF BL OM UTML FTBKTK MG \\n MIT LWF, MIT EGSR BFR RBKQ BSOTF LIOH BCBQTFL COMIGWM B CBKFOFU BFR SOUIML WH. SOYT \\n TDTKUTL YKGD MIT RTHMI GY MIT EASOFRKOEBS LTB MIBM EWML MIT KBDB CGKSR OF IBSY. TXGSWMOGF \\n MBQTL HSBET BM B IOUISA BEETSTKBMTR HBET BL LHTEOTL GY BSOTFL BKT EGFLMBFMSA ZGKF BFR \\n SBMTK KTEAESTR ZA MITOK TFXOKGFDTFM. MIT TVHSGKTKL TFEGWFMTK ROYYTKTFM, FGF-MIKTBMTFOFU \\n LHTEOTL GY BSOTFL. MITLT BSOTF EKTBMWKTL, HBKMA ZOGSGUOEBS BFR HBKMSA KGZGMOE, BKT ZTOFU \\n KTHTBMTRSA KTHSBETR ZA DGKT EGDHSTV ZTOFUL GXTK EAESTL SBLMOFU B YTC RBAL. MIT BRXTFMWKTKL \\n YBET ROYYTKTFM MTEIFGSGUOEBS EIBSSTFUTL BFR IBXT MG KTSA GF ZGMI MITOK GCF QFGCSTRUT \\n BFR MIT BRXOET GY B EGDDOMMTT GY LEOTFMOLML SGEBMTR GF B ROYYTKTFM HSBFTM MG EGFJWTK \\n MIT LTEKTML GY KBDB. MIT HBMI GY MIT BSOTF LIOH YGKETL MIT TVHSGKTK'L XTLLTS MG TFR \\n OML DOLLOGF BFR STBXT PWLM BL MIT CGKSR GY KBDB LTTDL MG KTXTKM MG OML \\n GKOUOFBS RBKQ, LOSTFM BFR BHHBKTFMSA LSTTHA LMBMT. KBDB MITF KTBSOUFL\"\n",
        "print(gb_c2)"
      ],
      "metadata": {
        "colab": {
          "base_uri": "https://localhost:8080/"
        },
        "id": "obSc0UB20xSD",
        "outputId": "f5bc790f-f57a-4f3c-ef19-e2246cf10f5c"
      },
      "execution_count": 134,
      "outputs": [
        {
          "output_type": "stream",
          "name": "stdout",
          "text": [
            "RWKOFU MIT SBLM JWBKMTK GY MIT MCTFMA LTEGFR ETFMWKA, DBFQOFR LHGMMTR BF WFQFGCF \n",
            " BFR WFTVHTEMTR LHBET GZPTEM MKBXTSOFU BEKGLL MIT HBMI GY MIT HSBFTML MGCBKR MIT LWF. MIT \n",
            " GZPTEM OL FBDTR KBDB BFR LEOTFMOLML LTFR B HKGZT FTBK MIT GZPTEM. MIT HKGZT ORTFMOYOTL \n",
            " KBDB BL BF BKMOYOEOBS, DTMBSSOE GZPTEM MIT LONT GY B LDBSS DTMTGKOMT, HTKYTEMSA EASOFRKOEBS \n",
            " BFR BHHBKTFMSA OFBEMOXT. B MTBD GY TVHSGKTKL OL MITF LTFM GF B DOLLOGF MG SBFR GF MIT \n",
            " GZPTEM BFR TVHSGKT OML EGFMTFM. MIT MTBD BZGBKR LHBETLIOH TFRTBXGWK ROLEGXTKL B CGKSR \n",
            " CIGLT HIALOEBS EIBKBEMTKOLMOEL BKT XTKA ROYYTKTFM YKGD MIBM CIOEI HKTXBOSL TSLTCITKT \n",
            " OF MIT WFOXTKLT BFR CITKT MIT SBCL GY HIALOEL BHHSA MG B LTSY-TFESGLTR, LTSY-LWYYOEOTFM \n",
            " EASOFRKOEBS CGKSR. BM YOKLM, MIT CGKSR GY KBDB LTTDL MG IBXT ZTTF TOMITK BLSTTH \n",
            " GK RTBR YGK B DOSSOGF ATBKL BL OM RKOYMTR MIKGWUI LHBET. MITF BL OM UTML FTBKTK MG \n",
            " MIT LWF, MIT EGSR BFR RBKQ BSOTF LIOH BCBQTFL COMIGWM B CBKFOFU BFR SOUIML WH. SOYT \n",
            " TDTKUTL YKGD MIT RTHMI GY MIT EASOFRKOEBS LTB MIBM EWML MIT KBDB CGKSR OF IBSY. TXGSWMOGF \n",
            " MBQTL HSBET BM B IOUISA BEETSTKBMTR HBET BL LHTEOTL GY BSOTFL BKT EGFLMBFMSA ZGKF BFR \n",
            " SBMTK KTEAESTR ZA MITOK TFXOKGFDTFM. MIT TVHSGKTKL TFEGWFMTK ROYYTKTFM, FGF-MIKTBMTFOFU \n",
            " LHTEOTL GY BSOTFL. MITLT BSOTF EKTBMWKTL, HBKMA ZOGSGUOEBS BFR HBKMSA KGZGMOE, BKT ZTOFU \n",
            " KTHTBMTRSA KTHSBETR ZA DGKT EGDHSTV ZTOFUL GXTK EAESTL SBLMOFU B YTC RBAL. MIT BRXTFMWKTKL \n",
            " YBET ROYYTKTFM MTEIFGSGUOEBS EIBSSTFUTL BFR IBXT MG KTSA GF ZGMI MITOK GCF QFGCSTRUT \n",
            " BFR MIT BRXOET GY B EGDDOMMTT GY LEOTFMOLML SGEBMTR GF B ROYYTKTFM HSBFTM MG EGFJWTK \n",
            " MIT LTEKTML GY KBDB. MIT HBMI GY MIT BSOTF LIOH YGKETL MIT TVHSGKTK'L XTLLTS MG TFR \n",
            " OML DOLLOGF BFR STBXT PWLM BL MIT CGKSR GY KBDB LTTDL MG KTXTKM MG OML \n",
            " GKOUOFBS RBKQ, LOSTFM BFR BHHBKTFMSA LSTTHA LMBMT. KBDB MITF KTBSOUFL\n"
          ]
        }
      ]
    },
    {
      "cell_type": "code",
      "source": [
        "frequency_table(gb_c2)"
      ],
      "metadata": {
        "colab": {
          "base_uri": "https://localhost:8080/"
        },
        "id": "GzbybnJE1lmS",
        "outputId": "d3d75e7b-ffd9-468b-bf55-ea533eaae160"
      },
      "execution_count": 135,
      "outputs": [
        {
          "output_type": "stream",
          "name": "stdout",
          "text": [
            "t:0.14275909402882636\n",
            "b:0.09334248455730954\n",
            "m:0.09265614275909403\n",
            "f:0.07000686341798215\n",
            "l:0.06657515442690459\n",
            "k:0.06657515442690459\n",
            "o:0.06108442004118051\n",
            "g:0.06108442004118051\n",
            "s:0.05216197666437886\n",
            "i:0.043239533287577216\n",
            "e:0.043239533287577216\n",
            "r:0.03912148249828414\n",
            "h:0.028140013726835965\n",
            "y:0.026767330130404943\n",
            "d:0.018531228551818806\n",
            "a:0.017158544955387784\n",
            "w:0.013726835964310227\n",
            "c:0.013040494166094716\n",
            "u:0.012354152367879203\n",
            "z:0.011667810569663692\n",
            "x:0.011667810569663692\n",
            "q:0.004804392587508579\n",
            "v:0.004118050789293068\n",
            "p:0.004118050789293068\n",
            "j:0.0013726835964310226\n",
            "n:0.0006863417982155113\n"
          ]
        }
      ]
    },
    {
      "cell_type": "code",
      "source": [
        "gb_c2 = gb_c2.replace('T','e')\n",
        "gb_c2 = gb_c2.replace('M','t')\n",
        "gb_c2 = gb_c2.replace('I','h')\n",
        "gb_c2 = gb_c2.replace('B','a')\n",
        "gb_c2 = gb_c2.replace('G','o')\n",
        "gb_c2 = gb_c2.replace('F','n')\n",
        "gb_c2 = gb_c2.replace('A','y')\n",
        "gb_c2 = gb_c2.replace('O','i')\n",
        "gb_c2 = gb_c2.replace('D','m')\n",
        "gb_c2 = gb_c2.replace('Y','f')\n",
        "gb_c2 = gb_c2.replace('R','d')\n",
        "gb_c2 = gb_c2.replace('H','p')\n",
        "gb_c2 = gb_c2.replace('X','v')\n",
        "gb_c2 = gb_c2.replace('K','r')\n",
        "gb_c2 = gb_c2.replace('L','s')\n",
        "gb_c2 = gb_c2.replace('W','u')\n",
        "gb_c2 = gb_c2.replace('Z','b')\n",
        "gb_c2 = gb_c2.replace('E','c')\n",
        "gb_c2 = gb_c2.replace('S','l')\n",
        "gb_c2 = gb_c2.replace('U','g')\n",
        "gb_c2 = gb_c2.replace('V','x')\n",
        "gb_c2 = gb_c2.replace('N','z')\n",
        "gb_c2 = gb_c2.replace('C','w')\n",
        "gb_c2 = gb_c2.replace('Q','k')\n",
        "gb_c2 = gb_c2.replace('J','q')\n",
        "gb_c2 = gb_c2.replace('P','j')\n",
        "\n",
        "print(gb_c2)"
      ],
      "metadata": {
        "colab": {
          "base_uri": "https://localhost:8080/"
        },
        "id": "fcoGvKZX1pGu",
        "outputId": "233df2bd-5b80-4749-f687-a682b4b40d65"
      },
      "execution_count": 136,
      "outputs": [
        {
          "output_type": "stream",
          "name": "stdout",
          "text": [
            "during the last quarter of the twenty second century, mankind spotted an unknown \n",
            " and unexpected space object traveling across the path of the planets toward the sun. the \n",
            " object is named rama and scientists send a probe near the object. the probe identifies \n",
            " rama as an artificial, metallic object the size of a small meteorite, perfectly cylindrical \n",
            " and apparently inactive. a team of explorers is then sent on a mission to land on the \n",
            " object and explore its content. the team aboard spaceship endeavour discovers a world \n",
            " whose physical characteristics are very different from that which prevails elsewhere \n",
            " in the universe and where the laws of physics apply to a self-enclosed, self-sufficient \n",
            " cylindrical world. at first, the world of rama seems to have been either asleep \n",
            " or dead for a million years as it drifted through space. then as it gets nearer to \n",
            " the sun, the cold and dark alien ship awakens without a warning and lights up. life \n",
            " emerges from the depth of the cylindrical sea that cuts the rama world in half. evolution \n",
            " takes place at a highly accelerated pace as species of aliens are constantly born and \n",
            " later recycled by their environment. the explorers encounter different, non-threatening \n",
            " species of aliens. these alien creatures, party biological and partly robotic, are being \n",
            " repeatedly replaced by more complex beings over cycles lasting a few days. the adventurers \n",
            " face different technological challenges and have to rely on both their own knowledge \n",
            " and the advice of a committee of scientists located on a different planet to conquer \n",
            " the secrets of rama. the path of the alien ship forces the explorer's vessel to end \n",
            " its mission and leave just as the world of rama seems to revert to its \n",
            " original dark, silent and apparently sleepy state. rama then realigns\n"
          ]
        }
      ]
    },
    {
      "cell_type": "markdown",
      "source": [
        "# **Group-C**"
      ],
      "metadata": {
        "id": "tW0-zd3ivgGZ"
      }
    },
    {
      "cell_type": "markdown",
      "source": [
        "Cipher-1"
      ],
      "metadata": {
        "id": "cUJp0FXcvk9T"
      }
    },
    {
      "cell_type": "code",
      "source": [
        "gc_c1 = \"MIT EKTC EGFLOLML GY EGGHTK, MIT KGZGML MBKL BFR EBLT, BFR MIT LEOTFMOLML RK. \\n BDTSOB ZKBFR (HKGYTLLGK ZKBFR'L RBWUIMTK), RK. KGDOSSA, BFR RK. RGAST. BYMTK \\n MKBXTKLOFU MIT CGKDIGST, EGGHTK, RGAST BFR BDTSOB WLT B KBFUTK MG OFXTLMOUBMT \\n DOSSTK'L HSBFTM, BF GETBF CGKSR. BYMTK SBFROFU OF QFTT-IOUI CBMTK BFR \\nYOFROFU GFSA CKTEQBUT YKGD DOSSTK'L TVHTROMOGF, B UO\"\n",
        "print(gc_c1)"
      ],
      "metadata": {
        "colab": {
          "base_uri": "https://localhost:8080/"
        },
        "id": "Pm3gpgMevn03",
        "outputId": "0363ffb8-5845-4ea8-d1e8-40d8122740aa"
      },
      "execution_count": 137,
      "outputs": [
        {
          "output_type": "stream",
          "name": "stdout",
          "text": [
            "MIT EKTC EGFLOLML GY EGGHTK, MIT KGZGML MBKL BFR EBLT, BFR MIT LEOTFMOLML RK. \n",
            " BDTSOB ZKBFR (HKGYTLLGK ZKBFR'L RBWUIMTK), RK. KGDOSSA, BFR RK. RGAST. BYMTK \n",
            " MKBXTKLOFU MIT CGKDIGST, EGGHTK, RGAST BFR BDTSOB WLT B KBFUTK MG OFXTLMOUBMT \n",
            " DOSSTK'L HSBFTM, BF GETBF CGKSR. BYMTK SBFROFU OF QFTT-IOUI CBMTK BFR \n",
            "YOFROFU GFSA CKTEQBUT YKGD DOSSTK'L TVHTROMOGF, B UO\n"
          ]
        }
      ]
    },
    {
      "cell_type": "code",
      "source": [
        "frequency_table(gc_c1)"
      ],
      "metadata": {
        "colab": {
          "base_uri": "https://localhost:8080/"
        },
        "id": "BEJnqdcNwG_m",
        "outputId": "289b8940-61f7-4634-9b63-d5c6d610394c"
      },
      "execution_count": 138,
      "outputs": [
        {
          "output_type": "stream",
          "name": "stdout",
          "text": [
            "t:0.12099644128113879\n",
            "k:0.09608540925266904\n",
            "b:0.09608540925266904\n",
            "f:0.08185053380782918\n",
            "g:0.07473309608540925\n",
            "o:0.06761565836298933\n",
            "m:0.06761565836298933\n",
            "r:0.060498220640569395\n",
            "l:0.060498220640569395\n",
            "s:0.05338078291814947\n",
            "u:0.03202846975088968\n",
            "i:0.028469750889679714\n",
            "e:0.028469750889679714\n",
            "d:0.02491103202846975\n",
            "y:0.021352313167259787\n",
            "h:0.017793594306049824\n",
            "c:0.017793594306049824\n",
            "a:0.014234875444839857\n",
            "z:0.010676156583629894\n",
            "x:0.0071174377224199285\n",
            "w:0.0071174377224199285\n",
            "q:0.0071174377224199285\n",
            "v:0.0035587188612099642\n",
            "p:0.0\n",
            "n:0.0\n",
            "j:0.0\n"
          ]
        }
      ]
    },
    {
      "cell_type": "code",
      "source": [
        "gc_c1 = gc_c1.replace('T','e')\n",
        "gc_c1 = gc_c1.replace('M','t')\n",
        "gc_c1 = gc_c1.replace('I','h')\n",
        "gc_c1 = gc_c1.replace('B','a')\n",
        "gc_c1 = gc_c1.replace('G','o')\n",
        "gc_c1 = gc_c1.replace('F','n')\n",
        "gc_c1 = gc_c1.replace('A','y')\n",
        "gc_c1 = gc_c1.replace('O','i')\n",
        "gc_c1 = gc_c1.replace('D','m')\n",
        "gc_c1 = gc_c1.replace('Y','f')\n",
        "gc_c1 = gc_c1.replace('R','d')\n",
        "gc_c1 = gc_c1.replace('H','p')\n",
        "gc_c1 = gc_c1.replace('X','v')\n",
        "gc_c1 = gc_c1.replace('K','r')\n",
        "gc_c1 = gc_c1.replace('L','s')\n",
        "gc_c1 = gc_c1.replace('W','u')\n",
        "gc_c1 = gc_c1.replace('Z','b')\n",
        "gc_c1 = gc_c1.replace('E','c')\n",
        "gc_c1 = gc_c1.replace('S','l')\n",
        "gc_c1 = gc_c1.replace('U','g')\n",
        "gc_c1 = gc_c1.replace('V','x')\n",
        "gc_c1 = gc_c1.replace('N','z')\n",
        "gc_c1 = gc_c1.replace('C','w')\n",
        "gc_c1 = gc_c1.replace('Q','k')\n",
        "\n",
        "print(gc_c1)"
      ],
      "metadata": {
        "colab": {
          "base_uri": "https://localhost:8080/"
        },
        "id": "hdRR0TqdwMWS",
        "outputId": "fed0c575-9ccc-496b-9cf9-a4079c76f983"
      },
      "execution_count": 139,
      "outputs": [
        {
          "output_type": "stream",
          "name": "stdout",
          "text": [
            "the crew consists of cooper, the robots tars and case, and the scientists dr. \n",
            " amelia brand (professor brand's daughter), dr. romilly, and dr. doyle. after \n",
            " traversing the wormhole, cooper, doyle and amelia use a ranger to investigate \n",
            " miller's planet, an ocean world. after landing in knee-high water and \n",
            "finding only wreckage from miller's expedition, a gi\n"
          ]
        }
      ]
    },
    {
      "cell_type": "markdown",
      "source": [
        "Cipher-2"
      ],
      "metadata": {
        "id": "rqUKzxnpzPeu"
      }
    },
    {
      "cell_type": "code",
      "source": [
        "gc_c2 = \"RTEQBKR LGGF DTTML B LGXOTM HGSOET EGFMBEM CIG MWKFL GWM MG ZT GFT GY MIT FTVWL-LOV \\n KTFTUBRTL OF ROLUWOLT. RTEQBKR KTMOKTL MIT BFRKGOR, MITF YSOTL GYY MG KTMOKT IOL FTVM \\n MBKUTM: BF GHTKB LOFUTK BFRKGOR. IGCTXTK, IT OL LWRRTFSA BKKTLMTR BFR RTMBOFTR BM B \\n HGSOET RTHBKMDTFM IT IBL FTXTK ITBKR GY ZA B HGSOET GYYOETK CIGD IT OL LWKHKOLTR \\n FTXTK MG IBXT DTM. BM MIOL LMKBFUT LMBMOGF, RTEQBKR'L CGKSRXOTC OL LIBQTF CITF BF \\n GYYOEOBS FBDTR UBKSBFR BEEWLTL RTEQBKR IODLTSY GY ZTOFU BF BFRKGOR. BYMTK B LTKOTL GY \\n DALMTKOGWL KTXTSBMOGFL BM MIT LMBMOGF, RTEQBKR HGFRTKL MIT TMIOEBS BFR HIOSGLGHIOEBS \\n JWTLMOGFL IOL SOFT GY CGKQ KBOLTL KTUBKROFU BFRKGOR OFMTSSOUTFET, TDHBMIA, BFR CIBM OM DTBFL \\n MG ZT IWDBF. HIOS KTLEI, MIT LMBMOGF'L KTLORTFM ZGWFMA IWFMTK, KTMKOTXTL MTLMOFU TJWOHDTFM \\n MG RTMTKDOFT OY IOL EGCGKQTKL--OFESWROFU RTEQBKR BFR KTLEI IODLTSY--BKT BFRKGORL GK IWDBFL. \\n UBKSBFR LWZLTJWTFMSA KTXTBSL MIBM MIT TFMOKT LMBMOGF OL B LIBD, LMBYYTR TFMOKTSA ZA BFRKGORL, \\n OFESWROFU UBKSBFR IODLTSY. KTLEI LIGGML UBKSBFR OF MIT ITBR, BSSGCOFU IOD BFR RTEQBKR MG TLEBHT; \\n MGUTMITK, MITA YOFR MIT GHTKB LOFUTK, CIGD KTLEI ZKWMBSSA KTMOKTL OF EGSR ZSGGR. BSMIGWUI \\n KTLEI BFR RTEQBKR BKT FGC EGSSBZGKBMGKL, TBEI LMOSS CGKKOTL MIBM IT (GK MIT GMITK) DOUIM ZT BF \\n BFRKGOR. RTEQBKR BRDOFOLMTKL MIT TDHBMIA MTLM MG IODLTSY BFR MG KTLEI, CIOEI EGFYOKDL MIBM \\n KTLEI OL B IWDBF ZTOFU--LODHSA B HBKMOEWSBKSA KWMISTLL GFT--BFR MIBM RTEQBKR OL BSLG IWDBF, ZWM \\n COMI B LTFLT GY TDHBMIA YGK MIT BFRKGORL. GFSA MIKTT GY MIT FTVWL-LOV BFRKGOR YWUOMOXTL KTDBOF, \\n BFR GFT, HKOL LMKBMMGF, DGXTL OFMG BF BHBKMDTFM ZWOSROFU CIGLT GFSA GMITK OFIBZOMBFM OL PGIF K. \\n OLORGKT, B KBROGBEMOXTSA RBDBUTR, OFMTSSTEMWBSSA ZTSGC-BXTKBUT IWDBF ESBLLOYOTR BL B LHTEOBS. MIT \\n SGFTSA OLORGKT BMMTDHML MG ZTYKOTFR ITK. KGA BFR OKDUBKR ZBMA\"\n",
        "print(gc_c2)"
      ],
      "metadata": {
        "colab": {
          "base_uri": "https://localhost:8080/"
        },
        "id": "auS_wgDSzThl",
        "outputId": "0d8ac699-23d0-4090-d84b-52e0a59d5107"
      },
      "execution_count": 140,
      "outputs": [
        {
          "output_type": "stream",
          "name": "stdout",
          "text": [
            "RTEQBKR LGGF DTTML B LGXOTM HGSOET EGFMBEM CIG MWKFL GWM MG ZT GFT GY MIT FTVWL-LOV \n",
            " KTFTUBRTL OF ROLUWOLT. RTEQBKR KTMOKTL MIT BFRKGOR, MITF YSOTL GYY MG KTMOKT IOL FTVM \n",
            " MBKUTM: BF GHTKB LOFUTK BFRKGOR. IGCTXTK, IT OL LWRRTFSA BKKTLMTR BFR RTMBOFTR BM B \n",
            " HGSOET RTHBKMDTFM IT IBL FTXTK ITBKR GY ZA B HGSOET GYYOETK CIGD IT OL LWKHKOLTR \n",
            " FTXTK MG IBXT DTM. BM MIOL LMKBFUT LMBMOGF, RTEQBKR'L CGKSRXOTC OL LIBQTF CITF BF \n",
            " GYYOEOBS FBDTR UBKSBFR BEEWLTL RTEQBKR IODLTSY GY ZTOFU BF BFRKGOR. BYMTK B LTKOTL GY \n",
            " DALMTKOGWL KTXTSBMOGFL BM MIT LMBMOGF, RTEQBKR HGFRTKL MIT TMIOEBS BFR HIOSGLGHIOEBS \n",
            " JWTLMOGFL IOL SOFT GY CGKQ KBOLTL KTUBKROFU BFRKGOR OFMTSSOUTFET, TDHBMIA, BFR CIBM OM DTBFL \n",
            " MG ZT IWDBF. HIOS KTLEI, MIT LMBMOGF'L KTLORTFM ZGWFMA IWFMTK, KTMKOTXTL MTLMOFU TJWOHDTFM \n",
            " MG RTMTKDOFT OY IOL EGCGKQTKL--OFESWROFU RTEQBKR BFR KTLEI IODLTSY--BKT BFRKGORL GK IWDBFL. \n",
            " UBKSBFR LWZLTJWTFMSA KTXTBSL MIBM MIT TFMOKT LMBMOGF OL B LIBD, LMBYYTR TFMOKTSA ZA BFRKGORL, \n",
            " OFESWROFU UBKSBFR IODLTSY. KTLEI LIGGML UBKSBFR OF MIT ITBR, BSSGCOFU IOD BFR RTEQBKR MG TLEBHT; \n",
            " MGUTMITK, MITA YOFR MIT GHTKB LOFUTK, CIGD KTLEI ZKWMBSSA KTMOKTL OF EGSR ZSGGR. BSMIGWUI \n",
            " KTLEI BFR RTEQBKR BKT FGC EGSSBZGKBMGKL, TBEI LMOSS CGKKOTL MIBM IT (GK MIT GMITK) DOUIM ZT BF \n",
            " BFRKGOR. RTEQBKR BRDOFOLMTKL MIT TDHBMIA MTLM MG IODLTSY BFR MG KTLEI, CIOEI EGFYOKDL MIBM \n",
            " KTLEI OL B IWDBF ZTOFU--LODHSA B HBKMOEWSBKSA KWMISTLL GFT--BFR MIBM RTEQBKR OL BSLG IWDBF, ZWM \n",
            " COMI B LTFLT GY TDHBMIA YGK MIT BFRKGORL. GFSA MIKTT GY MIT FTVWL-LOV BFRKGOR YWUOMOXTL KTDBOF, \n",
            " BFR GFT, HKOL LMKBMMGF, DGXTL OFMG BF BHBKMDTFM ZWOSROFU CIGLT GFSA GMITK OFIBZOMBFM OL PGIF K. \n",
            " OLORGKT, B KBROGBEMOXTSA RBDBUTR, OFMTSSTEMWBSSA ZTSGC-BXTKBUT IWDBF ESBLLOYOTR BL B LHTEOBS. MIT \n",
            " SGFTSA OLORGKT BMMTDHML MG ZTYKOTFR ITK. KGA BFR OKDUBKR ZBMA\n"
          ]
        }
      ]
    },
    {
      "cell_type": "code",
      "source": [
        "frequency_table(gc_c2)"
      ],
      "metadata": {
        "colab": {
          "base_uri": "https://localhost:8080/"
        },
        "id": "k9cmNB7b0Dy_",
        "outputId": "7f4bfa8a-e654-4154-f9a3-aba07d58dd0a"
      },
      "execution_count": 141,
      "outputs": [
        {
          "output_type": "stream",
          "name": "stdout",
          "text": [
            "t:0.12223756906077347\n",
            "b:0.09046961325966851\n",
            "m:0.08218232044198895\n",
            "o:0.07803867403314917\n",
            "k:0.0738950276243094\n",
            "l:0.07320441988950276\n",
            "f:0.0718232044198895\n",
            "g:0.06422651933701658\n",
            "r:0.05870165745856354\n",
            "i:0.05593922651933702\n",
            "s:0.0393646408839779\n",
            "e:0.029696132596685083\n",
            "d:0.023480662983425413\n",
            "w:0.020718232044198894\n",
            "y:0.019337016574585635\n",
            "u:0.018646408839779006\n",
            "h:0.015193370165745856\n",
            "a:0.014502762430939226\n",
            "z:0.012430939226519336\n",
            "c:0.011740331491712707\n",
            "x:0.008977900552486187\n",
            "q:0.008977900552486187\n",
            "v:0.003453038674033149\n",
            "j:0.0020718232044198894\n",
            "p:0.0006906077348066298\n",
            "n:0.0\n"
          ]
        }
      ]
    },
    {
      "cell_type": "code",
      "source": [
        "gc_c2 = gc_c2.replace('T','e')\n",
        "gc_c2 = gc_c2.replace('M','t')\n",
        "gc_c2 = gc_c2.replace('I','h')\n",
        "gc_c2 = gc_c2.replace('B','a')\n",
        "gc_c2 = gc_c2.replace('G','o')\n",
        "gc_c2 = gc_c2.replace('F','n')\n",
        "gc_c2 = gc_c2.replace('A','y')\n",
        "gc_c2 = gc_c2.replace('O','i')\n",
        "gc_c2 = gc_c2.replace('D','m')\n",
        "gc_c2 = gc_c2.replace('Y','f')\n",
        "gc_c2 = gc_c2.replace('R','d')\n",
        "gc_c2 = gc_c2.replace('H','p')\n",
        "gc_c2 = gc_c2.replace('X','v')\n",
        "gc_c2 = gc_c2.replace('K','r')\n",
        "gc_c2 = gc_c2.replace('L','s')\n",
        "gc_c2 = gc_c2.replace('W','u')\n",
        "gc_c2 = gc_c2.replace('Z','b')\n",
        "gc_c2 = gc_c2.replace('E','c')\n",
        "gc_c2 = gc_c2.replace('S','l')\n",
        "gc_c2 = gc_c2.replace('U','g')\n",
        "gc_c2 = gc_c2.replace('V','x')\n",
        "gc_c2 = gc_c2.replace('N','z')\n",
        "gc_c2 = gc_c2.replace('C','w')\n",
        "gc_c2 = gc_c2.replace('Q','k')\n",
        "gc_c2 = gc_c2.replace('J','q')\n",
        "\n",
        "print(gc_c2)"
      ],
      "metadata": {
        "colab": {
          "base_uri": "https://localhost:8080/"
        },
        "id": "Bjzv60mu0MA6",
        "outputId": "84af4b21-7762-4c41-a4e8-960e4336c6ea"
      },
      "execution_count": 142,
      "outputs": [
        {
          "output_type": "stream",
          "name": "stdout",
          "text": [
            "deckard soon meets a soviet police contact who turns out to be one of the nexus-six \n",
            " renegades in disguise. deckard retires the android, then flies off to retire his next \n",
            " target: an opera singer android. however, he is suddenly arrested and detained at a \n",
            " police department he has never heard of by a police officer whom he is surprised \n",
            " never to have met. at this strange station, deckard's worldview is shaken when an \n",
            " official named garland accuses deckard himself of being an android. after a series of \n",
            " mysterious revelations at the station, deckard ponders the ethical and philosophical \n",
            " questions his line of work raises regarding android intelligence, empathy, and what it means \n",
            " to be human. phil resch, the station's resident bounty hunter, retrieves testing equipment \n",
            " to determine if his coworkers--including deckard and resch himself--are androids or humans. \n",
            " garland subsequently reveals that the entire station is a sham, staffed entirely by androids, \n",
            " including garland himself. resch shoots garland in the head, allowing him and deckard to escape; \n",
            " together, they find the opera singer, whom resch brutally retires in cold blood. although \n",
            " resch and deckard are now collaborators, each still worries that he (or the other) might be an \n",
            " android. deckard administers the empathy test to himself and to resch, which confirms that \n",
            " resch is a human being--simply a particularly ruthless one--and that deckard is also human, but \n",
            " with a sense of empathy for the androids. only three of the nexus-six android fugitives remain, \n",
            " and one, pris stratton, moves into an apartment building whose only other inhabitant is Pohn r. \n",
            " isidore, a radioactively damaged, intellectually below-average human classified as a special. the \n",
            " lonely isidore attempts to befriend her. roy and irmgard baty\n"
          ]
        }
      ]
    }
  ]
}